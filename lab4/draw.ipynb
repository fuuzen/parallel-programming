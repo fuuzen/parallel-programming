{
 "cells": [
  {
   "cell_type": "code",
   "execution_count": null,
   "metadata": {},
   "outputs": [],
   "source": [
    "import matplotlib.pyplot as plt\n",
    "import numpy as np\n",
    "import math\n",
    "\n",
    "def parse_md_table(md_path):\n",
    "  with open(md_path, 'r') as f:\n",
    "    md_content = f.read()\n",
    "    \n",
    "    lines = [line.strip() for line in md_content.split('\\n') if line.strip()]\n",
    "    \n",
    "    headers = [col.strip() for col in lines[0].split('|')[2:-1]]\n",
    "    \n",
    "    data = []\n",
    "    row_labels = []\n",
    "    \n",
    "    for line in lines[2:]:\n",
    "      cols = [col.strip() for col in line.split('|')[1:-1]]\n",
    "      row_labels.append(cols[0])  # First column is row label\n",
    "      data.append([float(col) if col.replace('.', '').isdigit() else col for col in cols[1:]])\n",
    "    \n",
    "    return headers, row_labels, np.array(data)\n",
    "\n",
    "def plot_test2(md_path):\n",
    "  headers, row_labels, data = parse_md_table(md_path)\n",
    "  print(headers)\n",
    "  plt.figure(figsize=(10, 6))\n",
    "  x = np.array([float.fromhex(label) for label in row_labels])\n",
    "  \n",
    "  # plt.axhline(y=math.pi, color='red', linestyle='--', label='π (pi)')\n",
    "  \n",
    "  for i, header in enumerate(headers):\n",
    "    plt.plot(x, data[:, i], marker='o', label=f'{header}', linestyle='-')\n",
    "\n",
    "  plt.xscale('log', base=2)\n",
    "  # plt.xlabel('random points')\n",
    "  # plt.ylabel('pi')\n",
    "  # plt.title('pi - random points')\n",
    "  plt.xlabel('random points')\n",
    "  plt.ylabel('time(sec)')\n",
    "  plt.title('time - random points')\n",
    "  plt.legend()\n",
    "  plt.grid(True, which=\"both\", ls=\"--\")\n",
    "  plt.show()\n",
    "\n",
    "plot_test2('./build/result.md')"
   ]
  }
 ],
 "metadata": {
  "kernelspec": {
   "display_name": "py3.12",
   "language": "python",
   "name": "python3"
  },
  "language_info": {
   "codemirror_mode": {
    "name": "ipython",
    "version": 3
   },
   "file_extension": ".py",
   "mimetype": "text/x-python",
   "name": "python",
   "nbconvert_exporter": "python",
   "pygments_lexer": "ipython3",
   "version": "3.12.9"
  }
 },
 "nbformat": 4,
 "nbformat_minor": 2
}
