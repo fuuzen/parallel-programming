{
 "cells": [
  {
   "cell_type": "code",
   "execution_count": null,
   "metadata": {},
   "outputs": [],
   "source": [
    "import matplotlib.pyplot as plt\n",
    "import numpy as np\n",
    "import re\n",
    "\n",
    "def parse_md_table(md_content):\n",
    "  # 提取表头和数据行\n",
    "  lines = md_content.strip().split('\\n')\n",
    "  headers = re.findall(r'\\d+', lines[0])  # 提取表头中的数字\n",
    "  data = []\n",
    "  row_labels = []\n",
    "  \n",
    "  for line in lines[2:]:  # 跳过前两行（表头和分隔线）\n",
    "    parts = line.split('|')[1:-1]  # 分割并去掉首尾空元素\n",
    "    row_label = parts[0].strip()\n",
    "    values = [float(x.strip()) for x in parts[1:]]\n",
    "    row_labels.append(row_label)\n",
    "    data.append(values)\n",
    "  \n",
    "  return headers, row_labels, np.array(data)\n",
    "\n",
    "# 从文件读取\n",
    "with open('./build/result.md', 'r') as f:\n",
    "  md_content = f.read()\n",
    "\n",
    "headers, row_labels, data = parse_md_table(md_content)"
   ]
  },
  {
   "cell_type": "code",
   "execution_count": null,
   "metadata": {},
   "outputs": [],
   "source": [
    "def plot_test1_time_matrix_size(headers, row_labels, data):\n",
    "  plt.figure(figsize=(10, 6))\n",
    "  x = np.array([int(h) for h in headers])\n",
    "  \n",
    "  for i, (label, row) in enumerate(zip(row_labels, data)):\n",
    "    plt.plot(x, row, marker='o', label=f'{label}', linestyle='-')\n",
    "  \n",
    "  plt.xscale('log', base=2)\n",
    "  plt.yscale('log')\n",
    "  plt.xlabel('matrix_size')\n",
    "  plt.ylabel('time(s)')\n",
    "  plt.title('time - matrix_size')\n",
    "  plt.legend()\n",
    "  plt.grid(True, which=\"both\", ls=\"--\")\n",
    "  plt.show()\n",
    "\n",
    "plot_test1_time_matrix_size(headers, row_labels, data)"
   ]
  },
  {
   "cell_type": "code",
   "execution_count": null,
   "metadata": {},
   "outputs": [],
   "source": [
    "def plot_test2_time_array_size(headers, row_labels, data):\n",
    "  plt.figure(figsize=(10, 6))\n",
    "  x = np.array([float.fromhex(label) for label in row_labels])\n",
    "  \n",
    "  for i, header in enumerate(headers):\n",
    "    plt.plot(x, data[:, i], marker='s', label=f'{header}', linestyle='--')\n",
    "  \n",
    "  plt.xscale('log', base=2)\n",
    "  plt.yscale('log')\n",
    "  plt.xlabel('num_threads')\n",
    "  plt.ylabel('time(s)')\n",
    "  plt.title('time - num_threads')\n",
    "  plt.legend()\n",
    "  plt.grid(True, which=\"both\", ls=\"--\")\n",
    "  plt.show()\n",
    "\n",
    "plot_test2_time_array_size(headers, row_labels, data)"
   ]
  },
  {
   "cell_type": "code",
   "execution_count": null,
   "metadata": {},
   "outputs": [],
   "source": [
    "def plot_test2_time_num_thread(headers, row_labels, data):\n",
    "  plt.figure(figsize=(10, 6))\n",
    "  x = np.array([float.fromhex(h) for h in headers])\n",
    "  \n",
    "  for i, (label, row) in enumerate(zip(row_labels, data)):\n",
    "    plt.plot(x, row, marker='o', label=f'{label}', linestyle='-')\n",
    "  \n",
    "  plt.xscale('log', base=2)\n",
    "  plt.yscale('log')\n",
    "  plt.xlabel('num_thread')\n",
    "  plt.ylabel('time(s)')\n",
    "  plt.title('time - num_thread')\n",
    "  plt.legend()\n",
    "  plt.grid(True, which=\"both\", ls=\"--\")\n",
    "  plt.show()\n",
    "\n",
    "plot_test2_time_num_thread(headers, row_labels, data)"
   ]
  },
  {
   "cell_type": "code",
   "execution_count": null,
   "metadata": {},
   "outputs": [],
   "source": [
    "def plot_test2_time_array_size(headers, row_labels, data):\n",
    "  plt.figure(figsize=(10, 6))\n",
    "  x = np.array([float.fromhex(label) for label in row_labels])\n",
    "  \n",
    "  for i, header in enumerate(headers):\n",
    "    plt.plot(x, data[:, i], marker='s', label=f'{header}', linestyle='--')\n",
    "  \n",
    "  plt.xscale('log', base=2)\n",
    "  plt.yscale('log')\n",
    "  plt.xlabel('array_size')\n",
    "  plt.ylabel('time(s)')\n",
    "  plt.title('time - array_size')\n",
    "  plt.legend()\n",
    "  plt.grid(True, which=\"both\", ls=\"--\")\n",
    "  plt.show()\n",
    "\n",
    "plot_test2_time_array_size(headers, row_labels, data)"
   ]
  }
 ],
 "metadata": {
  "kernelspec": {
   "display_name": "py3.12",
   "language": "python",
   "name": "python3"
  },
  "language_info": {
   "codemirror_mode": {
    "name": "ipython",
    "version": 3
   },
   "file_extension": ".py",
   "mimetype": "text/x-python",
   "name": "python",
   "nbconvert_exporter": "python",
   "pygments_lexer": "ipython3",
   "version": "3.12.9"
  }
 },
 "nbformat": 4,
 "nbformat_minor": 2
}
