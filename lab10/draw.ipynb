{
 "cells": [
  {
   "cell_type": "code",
   "execution_count": null,
   "id": "20756c75",
   "metadata": {},
   "outputs": [],
   "source": [
    "import matplotlib.pyplot as plt\n",
    "import numpy as np\n",
    "import re\n",
    "\n",
    "# 从文件读取\n",
    "def parse_md_table(md_path):\n",
    "  with open(md_path, 'r') as f:\n",
    "    md_content = f.read()\n",
    "    # 提取数据行\n",
    "    lines = md_content.strip().split('\\n')\n",
    "    data = []\n",
    "    row_labels = []\n",
    "    \n",
    "    for line in lines[2:]:  # 跳过前两行（表头和分隔线）\n",
    "      parts = line.split('|')[1:-1]  # 分割并去掉首尾空元素\n",
    "      row_label = parts[0].strip()\n",
    "      values = [float(x.strip()) for x in parts[1:]]\n",
    "      row_labels.append(row_label)\n",
    "      data.append(values)\n",
    "    \n",
    "    return row_labels, np.array(data)\n",
    "\n",
    "def plot_gflops_matrix_size(md_path):\n",
    "  row_labels, data = parse_md_table(md_path)\n",
    "  plt.figure(figsize=(10, 6))\n",
    "  x = np.array([int(label)*32 for label in row_labels])\n",
    "  \n",
    "  plt.plot(x, data[:, 0], marker='s', label=\"CUBLAS\", linestyle='--')\n",
    "  plt.plot(x, data[:, 2], marker='s', label=\"MyImpl\", linestyle='--')\n",
    "  \n",
    "  plt.xscale('log', base=2)\n",
    "  plt.yscale('log')\n",
    "  plt.xlabel('matrix size')\n",
    "  plt.ylabel('GFLOPS')\n",
    "  plt.title('GFLOPS - matrix size')\n",
    "  plt.legend(title='method')\n",
    "  plt.grid(True, which=\"both\", ls=\"--\")\n",
    "  plt.show()\n",
    "\n",
    "plot_gflops_matrix_size('./build-release/result.md')"
   ]
  }
 ],
 "metadata": {
  "kernelspec": {
   "display_name": "Python 3",
   "language": "python",
   "name": "python3"
  },
  "language_info": {
   "codemirror_mode": {
    "name": "ipython",
    "version": 3
   },
   "file_extension": ".py",
   "mimetype": "text/x-python",
   "name": "python",
   "nbconvert_exporter": "python",
   "pygments_lexer": "ipython3",
   "version": "3.13.5"
  }
 },
 "nbformat": 4,
 "nbformat_minor": 5
}
